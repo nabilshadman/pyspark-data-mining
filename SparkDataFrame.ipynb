{
 "cells": [
  {
   "cell_type": "markdown",
   "metadata": {
    "id": "j2uc36KZtFMG"
   },
   "source": [
    "## Spark DataFrames\n"
   ]
  },
  {
   "cell_type": "markdown",
   "metadata": {
    "id": "is0S6781tFMI"
   },
   "source": [
    "### [Spark SQL](https://spark.apache.org/sql/)\n",
    "Spark ecosystem consists of Spark Core, the main data processing framework, and first-party components including Spark SQL, Spark MLlib, Spark ML, Spark Streaming, and GraphX.\n",
    "\n",
    "Spark SQL is Apache Spark's module for working with structured data, any data with a defined set of fields for each record. The structure i.e. schema allows Spark to store data more efficiently than using java serialization and run SQL queries on data. Spark SQL has the following featues:\n",
    "1. *Integrated*: Seamlessly mix SQL queries with Spark programs\n",
    "2. *Uniform Data Access*: Connect to any data source the same way (Hive, Avro, Parquet, ORC, JSON, JDBC, CSV)\n",
    "3. *Hive Integration*: Run SQL or HiveQL queries on existing warehouses\n",
    "4. *Standard Connectivity*: Connect through industry standard JDBC and ODBC\n",
    "5. *Performance*: Spark SQL includes a cost-based optimizer, columnar storage and code generation to make queries fast. At the same time, it scales to thousands of nodes and multi hour queries using the Spark engine, which provides full mid-query fault tolerance.\n"
   ]
  },
  {
   "cell_type": "markdown",
   "metadata": {
    "id": "CkIkdPN7tFMJ"
   },
   "source": [
    "### Spark DataSets and DataFrames"
   ]
  },
  {
   "cell_type": "markdown",
   "metadata": {
    "id": "j4WB0D1TtFMJ"
   },
   "source": [
    "\n",
    "A **Dataset** is a distributed collection of data that includes additional metadata about the structure (schema) of the data being stored. Datasets provide the benefits of RDDs (strong typing, ability to use powerful lambda functions) with the benefits of Spark SQL’s optimized execution engine, allowing Spark to manage the schema in a much more efficienty way than using Java serialization. A Dataset can be constructed from JVM objects and then manipulated using functional transformations (map, flatMap, filter, etc.). The Dataset API is available in Scala and Java. Python does not have the support for the Dataset API because of its dynamic typing nature (There is no declaration of a variable, just an assignment statement). But due to Python’s dynamic nature, many of the benefits of the Dataset API are already available (i.e. you can access the field of a row by name naturally row.columnName). The case for R is similar.\n",
    "\n",
    "A **DataFrame** is a Dataset organized into named columns. It is conceptually equivalent to a table in a relational database or a data frame in R/Python, but with richer optimizations under the hood. DataFrames can be constructed from a wide array of sources such as: structured data files, tables in Hive, external databases, or existing RDDs. The DataFrame API is available in Scala, Java, Python, and R. \n",
    "\n",
    "Starting Spark 2.0, Dataset APIs , Dataset and DataFrame APIs were merged. Dataset takes on two distinct APIs characteristics: a strongly-typed API and an untyped API. DataFrame can be considered as the untyped view of a Dataset, which is a Dataset of Row where a Row is a generic untyped JVM object. In contrast, Dataset is a collection of strongly-typed JVM objects.\n",
    "\n",
    "Spark DataFrames are heavily inspired by Pandas and we're actually able to create **Pandas user-defined functions (UDFs)** to use with Spark which leverage the Apache Arrow project to *vectorized computation* instead of *row-by-row operations*. This can lead to significant performance boosts for large datasets. Vectorization refers to processing  entire sets of elements rather than their individual elements. \n",
    "[Further Reading:RealPython Vectorization](https://realpython.com/numpy-array-programming/)\n",
    "\n",
    "SQL Tables and Views are basically the same thing as DataFrames. We simply just execute SQL against them instead of DataFrame code. You can choose to express some of your data manipulations in SQL and others in DataFrames and they will compile to the same underlying code.\n"
   ]
  },
  {
   "cell_type": "markdown",
   "metadata": {
    "id": "mgFY11wCtFMK"
   },
   "source": [
    "### [pyspark.sql documentation ](https://spark.apache.org/docs/latest/api/python/pyspark.sql.html#)"
   ]
  },
  {
   "cell_type": "markdown",
   "metadata": {
    "id": "XHsvTLi4tFML"
   },
   "source": [
    "## Spark SQL Demo"
   ]
  },
  {
   "cell_type": "markdown",
   "metadata": {
    "id": "uxL_sMWGtFML"
   },
   "source": [
    "### [Spark Session](https://sparkour.urizone.net/recipes/understanding-sparksession/)\n",
    "When working with RDD, we used SparkContext. \n",
    "Starting Spark 2.0, SparkSession provides a single entry point to perform many operations that were previously scattered across multiple classes.\n",
    "A SparkSession can be used to create DataFrame, register DataFrame as tables, execute SQL over tables, cache tables, and read files."
   ]
  },
  {
   "cell_type": "code",
   "execution_count": null,
   "metadata": {
    "id": "jPHcZ9w_tFML",
    "outputId": "c0805cf7-6519-4a29-915e-fc6df93901e4"
   },
   "outputs": [
    {
     "name": "stdout",
     "output_type": "stream",
     "text": [
      "root\n",
      " |-- _c0: integer (nullable = true)\n",
      " |-- ID: integer (nullable = true)\n",
      " |-- Name: string (nullable = true)\n",
      " |-- Age: integer (nullable = true)\n",
      " |-- Photo: string (nullable = true)\n",
      " |-- Nationality: string (nullable = true)\n",
      " |-- Flag: string (nullable = true)\n",
      " |-- Overall: integer (nullable = true)\n",
      " |-- Potential: integer (nullable = true)\n",
      " |-- Club: string (nullable = true)\n",
      " |-- Club Logo: string (nullable = true)\n",
      " |-- Value: string (nullable = true)\n",
      " |-- Wage: string (nullable = true)\n",
      " |-- Special: integer (nullable = true)\n",
      " |-- Preferred Foot: string (nullable = true)\n",
      " |-- International Reputation: integer (nullable = true)\n",
      " |-- Weak Foot: integer (nullable = true)\n",
      " |-- Skill Moves: integer (nullable = true)\n",
      " |-- Work Rate: string (nullable = true)\n",
      " |-- Body Type: string (nullable = true)\n",
      " |-- Real Face: string (nullable = true)\n",
      " |-- Position: string (nullable = true)\n",
      " |-- Jersey Number: integer (nullable = true)\n",
      " |-- Joined: string (nullable = true)\n",
      " |-- Loaned From: string (nullable = true)\n",
      " |-- Contract Valid Until: string (nullable = true)\n",
      " |-- Height: string (nullable = true)\n",
      " |-- Weight: string (nullable = true)\n",
      " |-- LS: string (nullable = true)\n",
      " |-- ST: string (nullable = true)\n",
      " |-- RS: string (nullable = true)\n",
      " |-- LW: string (nullable = true)\n",
      " |-- LF: string (nullable = true)\n",
      " |-- CF: string (nullable = true)\n",
      " |-- RF: string (nullable = true)\n",
      " |-- RW: string (nullable = true)\n",
      " |-- LAM: string (nullable = true)\n",
      " |-- CAM: string (nullable = true)\n",
      " |-- RAM: string (nullable = true)\n",
      " |-- LM: string (nullable = true)\n",
      " |-- LCM: string (nullable = true)\n",
      " |-- CM: string (nullable = true)\n",
      " |-- RCM: string (nullable = true)\n",
      " |-- RM: string (nullable = true)\n",
      " |-- LWB: string (nullable = true)\n",
      " |-- LDM: string (nullable = true)\n",
      " |-- CDM: string (nullable = true)\n",
      " |-- RDM: string (nullable = true)\n",
      " |-- RWB: string (nullable = true)\n",
      " |-- LB: string (nullable = true)\n",
      " |-- LCB: string (nullable = true)\n",
      " |-- CB: string (nullable = true)\n",
      " |-- RCB: string (nullable = true)\n",
      " |-- RB: string (nullable = true)\n",
      " |-- Crossing: integer (nullable = true)\n",
      " |-- Finishing: integer (nullable = true)\n",
      " |-- HeadingAccuracy: integer (nullable = true)\n",
      " |-- ShortPassing: integer (nullable = true)\n",
      " |-- Volleys: integer (nullable = true)\n",
      " |-- Dribbling: integer (nullable = true)\n",
      " |-- Curve: integer (nullable = true)\n",
      " |-- FKAccuracy: integer (nullable = true)\n",
      " |-- LongPassing: integer (nullable = true)\n",
      " |-- BallControl: integer (nullable = true)\n",
      " |-- Acceleration: integer (nullable = true)\n",
      " |-- SprintSpeed: integer (nullable = true)\n",
      " |-- Agility: integer (nullable = true)\n",
      " |-- Reactions: integer (nullable = true)\n",
      " |-- Balance: integer (nullable = true)\n",
      " |-- ShotPower: integer (nullable = true)\n",
      " |-- Jumping: integer (nullable = true)\n",
      " |-- Stamina: integer (nullable = true)\n",
      " |-- Strength: integer (nullable = true)\n",
      " |-- LongShots: integer (nullable = true)\n",
      " |-- Aggression: integer (nullable = true)\n",
      " |-- Interceptions: integer (nullable = true)\n",
      " |-- Positioning: integer (nullable = true)\n",
      " |-- Vision: integer (nullable = true)\n",
      " |-- Penalties: integer (nullable = true)\n",
      " |-- Composure: integer (nullable = true)\n",
      " |-- Marking: integer (nullable = true)\n",
      " |-- StandingTackle: integer (nullable = true)\n",
      " |-- SlidingTackle: integer (nullable = true)\n",
      " |-- GKDiving: integer (nullable = true)\n",
      " |-- GKHandling: integer (nullable = true)\n",
      " |-- GKKicking: integer (nullable = true)\n",
      " |-- GKPositioning: integer (nullable = true)\n",
      " |-- GKReflexes: integer (nullable = true)\n",
      " |-- Release Clause: string (nullable = true)\n",
      "\n"
     ]
    }
   ],
   "source": [
    "from pyspark.sql import SparkSession # Spark Session Class for create a Spark Session\n",
    "\n",
    "# create a spark session object\n",
    "# following some builder pattern\n",
    "\n",
    "spark = SparkSession.builder \\\n",
    "                    .master(\"local\") \\\n",
    "                    .appName(\"FIFAPlayers\") \\\n",
    "                    .getOrCreate() \n",
    "\n",
    "dfReader = spark.read # Spark interface to read external reader\n",
    "\n",
    "df = dfReader.option(\"header\", \"true\") \\\n",
    "           .option(\"inferSchema\", value = True) \\\n",
    "           .csv(\"fifadata.csv\")\n",
    "\n",
    "# SQL database in memory (distributed potentiallly on a cluster)\n",
    "df.printSchema()\n",
    "\n"
   ]
  },
  {
   "cell_type": "code",
   "execution_count": null,
   "metadata": {
    "id": "0Dj6ItU5tFMN"
   },
   "outputs": [],
   "source": [
    "dfWithSomeColumns = df.select(\"Name\", \"Nationality\", \"Wage\")"
   ]
  },
  {
   "cell_type": "code",
   "execution_count": null,
   "metadata": {
    "id": "N2H2mqYAtFMN",
    "outputId": "30ed9b2a-ee9f-498f-a481-bd8fe0782a8b"
   },
   "outputs": [
    {
     "name": "stdout",
     "output_type": "stream",
     "text": [
      "------ Print some columns from the table \n",
      "+-----------------+-----------+-----+\n",
      "|             Name|Nationality| Wage|\n",
      "+-----------------+-----------+-----+\n",
      "|         L. Messi|  Argentina|€565K|\n",
      "|Cristiano Ronaldo|   Portugal|€405K|\n",
      "|        Neymar Jr|     Brazil|€290K|\n",
      "|           De Gea|      Spain|€260K|\n",
      "|     K. De Bruyne|    Belgium|€355K|\n",
      "|        E. Hazard|    Belgium|€340K|\n",
      "|        L. Modrić|    Croatia|€420K|\n",
      "|        L. Suárez|    Uruguay|€455K|\n",
      "|     Sergio Ramos|      Spain|€380K|\n",
      "|         J. Oblak|   Slovenia| €94K|\n",
      "|   R. Lewandowski|     Poland|€205K|\n",
      "|         T. Kroos|    Germany|€355K|\n",
      "|         D. Godín|    Uruguay|€125K|\n",
      "|      David Silva|      Spain|€285K|\n",
      "|         N. Kanté|     France|€225K|\n",
      "|        P. Dybala|  Argentina|€205K|\n",
      "|          H. Kane|    England|€205K|\n",
      "|     A. Griezmann|     France|€145K|\n",
      "|    M. ter Stegen|    Germany|€240K|\n",
      "|      T. Courtois|    Belgium|€240K|\n",
      "+-----------------+-----------+-----+\n",
      "only showing top 20 rows\n",
      "\n"
     ]
    }
   ],
   "source": [
    "print(\"------ Print some columns from the table \")\n",
    "dfWithSomeColumns.show() # show method has two parameters numRows: Int, truncate: Boolean"
   ]
  },
  {
   "cell_type": "code",
   "execution_count": null,
   "metadata": {
    "id": "brYVL1EgtFMN",
    "outputId": "dead4d78-32dd-4cee-b966-39ff8cd3b1fc"
   },
   "outputs": [
    {
     "name": "stdout",
     "output_type": "stream",
     "text": [
      "--- Print a few players from Brazil-----\n",
      "+---------------+-----------+-----+\n",
      "|           Name|Nationality| Wage|\n",
      "+---------------+-----------+-----+\n",
      "|      Neymar Jr|     Brazil|€290K|\n",
      "|       Casemiro|     Brazil|€285K|\n",
      "|       Coutinho|     Brazil|€340K|\n",
      "|        Marcelo|     Brazil|€285K|\n",
      "|   Thiago Silva|     Brazil|€165K|\n",
      "|        Ederson|     Brazil|€125K|\n",
      "|Roberto Firmino|     Brazil|€195K|\n",
      "|    Alex Sandro|     Brazil|€160K|\n",
      "|  Douglas Costa|     Brazil|€175K|\n",
      "|    Fernandinho|     Brazil|€185K|\n",
      "|        Alisson|     Brazil|€115K|\n",
      "|       Paulinho|     Brazil|€235K|\n",
      "|          Naldo|     Brazil| €38K|\n",
      "|        Miranda|     Brazil| €96K|\n",
      "|    Filipe Luís|     Brazil| €81K|\n",
      "|    Alex Telles|     Brazil| €22K|\n",
      "|        Fabinho|     Brazil|€120K|\n",
      "|     Marquinhos|     Brazil| €90K|\n",
      "|        Willian|     Brazil|€175K|\n",
      "|          Jonas|     Brazil| €25K|\n",
      "+---------------+-----------+-----+\n",
      "only showing top 20 rows\n",
      "\n"
     ]
    }
   ],
   "source": [
    "print(\"--- Print a few players from Brazil-----\")\n",
    "dfWithSomeColumns.filter(dfWithSomeColumns['Nationality']=='Brazil').show()"
   ]
  },
  {
   "cell_type": "code",
   "execution_count": null,
   "metadata": {
    "id": "ahzBMGCltFMN",
    "outputId": "55588ffb-b51d-42dc-b603-ab718b0c6d40"
   },
   "outputs": [
    {
     "name": "stdout",
     "output_type": "stream",
     "text": [
      "---Print the count of players per country----\n",
      "+--------------+-----+\n",
      "|   Nationality|count|\n",
      "+--------------+-----+\n",
      "|          Chad|    2|\n",
      "|        Russia|   79|\n",
      "|      Paraguay|   85|\n",
      "|       Senegal|  130|\n",
      "|        Sweden|  397|\n",
      "|        Guyana|    3|\n",
      "|   Philippines|    2|\n",
      "|       Eritrea|    2|\n",
      "|          Fiji|    1|\n",
      "|        Turkey|  303|\n",
      "|          Iraq|    7|\n",
      "|       Germany| 1198|\n",
      "|St Kitts Nevis|    3|\n",
      "|       Comoros|    6|\n",
      "|   Afghanistan|    4|\n",
      "|   Ivory Coast|  100|\n",
      "|        Jordan|    1|\n",
      "|        Rwanda|    1|\n",
      "|         Sudan|    3|\n",
      "|        France|  914|\n",
      "+--------------+-----+\n",
      "only showing top 20 rows\n",
      "\n",
      "+-------------------+-----+\n",
      "|        Nationality|count|\n",
      "+-------------------+-----+\n",
      "|            England| 1662|\n",
      "|            Germany| 1198|\n",
      "|              Spain| 1072|\n",
      "|          Argentina|  937|\n",
      "|             France|  914|\n",
      "|             Brazil|  827|\n",
      "|              Italy|  702|\n",
      "|           Colombia|  618|\n",
      "|              Japan|  478|\n",
      "|        Netherlands|  453|\n",
      "|             Sweden|  397|\n",
      "|           China PR|  392|\n",
      "|              Chile|  391|\n",
      "|Republic of Ireland|  368|\n",
      "|             Mexico|  366|\n",
      "|      United States|  353|\n",
      "|             Poland|  350|\n",
      "|             Norway|  341|\n",
      "|       Saudi Arabia|  340|\n",
      "|            Denmark|  336|\n",
      "+-------------------+-----+\n",
      "only showing top 20 rows\n",
      "\n"
     ]
    }
   ],
   "source": [
    "print(\"---Print the count of players per country----\")\n",
    "groupedData = dfWithSomeColumns.groupBy(\"Nationality\")\n",
    "groupedData.count().show()\n",
    "groupedData.count().orderBy(\"count\", ascending = False).show()"
   ]
  },
  {
   "cell_type": "code",
   "execution_count": null,
   "metadata": {
    "id": "LsbDOIiMtFMO",
    "outputId": "dcc5a28a-f6f5-4c50-aa29-13378823a098"
   },
   "outputs": [
    {
     "name": "stdout",
     "output_type": "stream",
     "text": [
      "+-------------+-----------+----+\n",
      "|         Name|Nationality|Wage|\n",
      "+-------------+-----------+----+\n",
      "|     A. Abang|   Cameroon| €1K|\n",
      "|A. Abdellaoui|    Algeria| €4K|\n",
      "| A. Abdennour|    Tunisia|€24K|\n",
      "|      A. Abdi|Switzerland|€13K|\n",
      "|A. Abdu Jaber|    Eritrea| €4K|\n",
      "+-------------+-----------+----+\n",
      "only showing top 5 rows\n",
      "\n"
     ]
    }
   ],
   "source": [
    "# Register the DataFrame as a SQL temporary view\n",
    "df.createOrReplaceTempView(\"fifa\")\n",
    "\n",
    "sqlDF = spark.sql(\"SELECT Name, Nationality, Wage FROM fifa ORDER BY Name\")\n",
    "sqlDF.show(5)"
   ]
  },
  {
   "cell_type": "code",
   "execution_count": null,
   "metadata": {
    "id": "m3LjVUtNtFMO",
    "outputId": "15c65d7d-dc43-4641-f5ca-f80670458b39"
   },
   "outputs": [
    {
     "name": "stdout",
     "output_type": "stream",
     "text": [
      "+-----------+--------+\n",
      "|Nationality|count(1)|\n",
      "+-----------+--------+\n",
      "|    England|    1662|\n",
      "|    Germany|    1198|\n",
      "|      Spain|    1072|\n",
      "|  Argentina|     937|\n",
      "|     France|     914|\n",
      "|     Brazil|     827|\n",
      "|      Italy|     702|\n",
      "|   Colombia|     618|\n",
      "|      Japan|     478|\n",
      "|Netherlands|     453|\n",
      "+-----------+--------+\n",
      "only showing top 10 rows\n",
      "\n"
     ]
    }
   ],
   "source": [
    "query = \"\"\"SELECT Nationality, COUNT(*)\n",
    "           FROM fifa\n",
    "           GROUP BY Nationality\n",
    "           ORDER BY COUNT(*) DESC\"\"\"\n",
    "sqlDF = spark.sql(query).show(10)"
   ]
  },
  {
   "cell_type": "markdown",
   "metadata": {
    "id": "1soGpF3utFMO"
   },
   "source": [
    "## TASK Convert Wage €1K to a new column Wage_Euro 1000\n",
    "Apply a Pandas UDF to column Column Wage to numeric"
   ]
  },
  {
   "cell_type": "code",
   "execution_count": null,
   "metadata": {
    "id": "BcztL1ZUtFMO"
   },
   "outputs": [],
   "source": [
    "from pyspark.sql.functions import col, pandas_udf, PandasUDFType\n",
    "from pyspark.sql.types import StringType, IntegerType\n",
    "# Create a vectorized user defined function (UDF)\n",
    "def wage_euros_func(wage):\n",
    "    \n",
    "    return pd.Series([w[1:-1].replace('\"','') for w in wage])\n",
    "\n",
    "wage_euros = pandas_udf(wage_euros_func,StringType())\n",
    "\n",
    "@pandas_udf(IntegerType())\n",
    "def multiply_1000(x):\n",
    "    return x*1000\n",
    "\n"
   ]
  },
  {
   "cell_type": "code",
   "execution_count": null,
   "metadata": {
    "id": "KYbOvdGmtFMP",
    "outputId": "627c654c-9b41-474e-840e-c14bacc7d8da"
   },
   "outputs": [
    {
     "name": "stdout",
     "output_type": "stream",
     "text": [
      "+------------+------------+----+\n",
      "|        Name| Nationality|Wage|\n",
      "+------------+------------+----+\n",
      "|  L. Paredes|   Argentina|  €0|\n",
      "|A. Granqvist|      Sweden|  €0|\n",
      "|    A. Lunev|      Russia|  €0|\n",
      "|I. Smolnikov|      Russia|  €0|\n",
      "|   A. Dzyuba|      Russia|  €0|\n",
      "|   Luís Neto|    Portugal|  €0|\n",
      "|  D. Kuzyaev|      Russia|  €0|\n",
      "|      G. Sio| Ivory Coast|  €0|\n",
      "|   J. Villar|    Paraguay|  €0|\n",
      "|  C. Riveros|    Paraguay|  €0|\n",
      "|B. Dzsudzsák|     Hungary|  €0|\n",
      "|Y. Gazinskiy|      Russia|  €0|\n",
      "|  V. Cáceres|    Paraguay|  €0|\n",
      "|      P. Tau|South Africa|  €0|\n",
      "|    C. Cueva|        Peru|  €0|\n",
      "|   M. Mevlja|    Slovenia|  €0|\n",
      "|   K. Traoré| Ivory Coast|  €0|\n",
      "|   K. Fofana| Ivory Coast|  €0|\n",
      "| V. Claesson|      Sweden|  €0|\n",
      "|    B. Jokič|    Slovenia|  €0|\n",
      "+------------+------------+----+\n",
      "only showing top 20 rows\n",
      "\n"
     ]
    }
   ],
   "source": [
    "from pyspark.sql.functions import length\n",
    "dfWithSomeColumns.filter(length('Wage')<3).show()"
   ]
  },
  {
   "cell_type": "code",
   "execution_count": null,
   "metadata": {
    "id": "TP-zRsFrtFMP",
    "outputId": "ac85018d-c0e2-4c52-8f9d-f3f217a3c8ca"
   },
   "outputs": [
    {
     "name": "stdout",
     "output_type": "stream",
     "text": [
      "+-----------------+-----------+-----+\n",
      "|             Name|Nationality| Wage|\n",
      "+-----------------+-----------+-----+\n",
      "|         L. Messi|  Argentina|€565K|\n",
      "|Cristiano Ronaldo|   Portugal|€405K|\n",
      "|        Neymar Jr|     Brazil|€290K|\n",
      "|           De Gea|      Spain|€260K|\n",
      "|     K. De Bruyne|    Belgium|€355K|\n",
      "|        E. Hazard|    Belgium|€340K|\n",
      "|        L. Modrić|    Croatia|€420K|\n",
      "|        L. Suárez|    Uruguay|€455K|\n",
      "|     Sergio Ramos|      Spain|€380K|\n",
      "|         J. Oblak|   Slovenia| €94K|\n",
      "|   R. Lewandowski|     Poland|€205K|\n",
      "|         T. Kroos|    Germany|€355K|\n",
      "|         D. Godín|    Uruguay|€125K|\n",
      "|      David Silva|      Spain|€285K|\n",
      "|         N. Kanté|     France|€225K|\n",
      "|        P. Dybala|  Argentina|€205K|\n",
      "|          H. Kane|    England|€205K|\n",
      "|     A. Griezmann|     France|€145K|\n",
      "|    M. ter Stegen|    Germany|€240K|\n",
      "|      T. Courtois|    Belgium|€240K|\n",
      "+-----------------+-----------+-----+\n",
      "only showing top 20 rows\n",
      "\n"
     ]
    }
   ],
   "source": [
    "df2 = dfWithSomeColumns.filter(length('Wage')>=3)\n",
    "df2.show()"
   ]
  },
  {
   "cell_type": "code",
   "execution_count": null,
   "metadata": {
    "id": "FB0ifUVTtFMP",
    "outputId": "3d1bff0f-f434-4c9e-bcae-c8eee1711957"
   },
   "outputs": [
    {
     "name": "stdout",
     "output_type": "stream",
     "text": [
      "+-----------------+-----------+---------+\n",
      "|             Name|Nationality|Wage_euro|\n",
      "+-----------------+-----------+---------+\n",
      "|         L. Messi|  Argentina|   565000|\n",
      "|        L. Suárez|    Uruguay|   455000|\n",
      "|        L. Modrić|    Croatia|   420000|\n",
      "|Cristiano Ronaldo|   Portugal|   405000|\n",
      "|     Sergio Ramos|      Spain|   380000|\n",
      "|     K. De Bruyne|    Belgium|   355000|\n",
      "|         T. Kroos|    Germany|   355000|\n",
      "|          G. Bale|      Wales|   355000|\n",
      "|        E. Hazard|    Belgium|   340000|\n",
      "|         Coutinho|     Brazil|   340000|\n",
      "|             Isco|      Spain|   315000|\n",
      "|  Sergio Busquets|      Spain|   315000|\n",
      "|     J. Rodríguez|   Colombia|   315000|\n",
      "|        S. Agüero|  Argentina|   300000|\n",
      "|        Neymar Jr|     Brazil|   290000|\n",
      "|         Casemiro|     Brazil|   285000|\n",
      "|          Marcelo|     Brazil|   285000|\n",
      "|      David Silva|      Spain|   285000|\n",
      "|    P. Aubameyang|      Gabon|   265000|\n",
      "|           De Gea|      Spain|   260000|\n",
      "+-----------------+-----------+---------+\n",
      "only showing top 20 rows\n",
      "\n"
     ]
    }
   ],
   "source": [
    "from pyspark.sql.functions import desc\n",
    "\n",
    "df2.withColumn('Wage_num',wage_euros(col('Wage')))\\\n",
    "         .select('Name','Nationality',col('Wage_num').cast(IntegerType()))\\\n",
    "         .withColumn('Wage_euro',multiply_1000(col('Wage_num')))\\\n",
    "         .select('Name','Nationality','Wage_euro')\\\n",
    "         .sort(desc('Wage_euro')).show()"
   ]
  },
  {
   "cell_type": "code",
   "execution_count": null,
   "metadata": {
    "id": "1X6I6Yr6tFMQ"
   },
   "outputs": [],
   "source": [
    "spark.stop()"
   ]
  }
 ],
 "metadata": {
  "colab": {
   "provenance": []
  },
  "kernelspec": {
   "display_name": "Python 3",
   "language": "python",
   "name": "python3"
  },
  "language_info": {
   "codemirror_mode": {
    "name": "ipython",
    "version": 3
   },
   "file_extension": ".py",
   "mimetype": "text/x-python",
   "name": "python",
   "nbconvert_exporter": "python",
   "pygments_lexer": "ipython3",
   "version": "3.8.3"
  }
 },
 "nbformat": 4,
 "nbformat_minor": 1
}
