{
 "cells": [
  {
   "cell_type": "markdown",
   "metadata": {
    "id": "2ry8Cy25t8jH"
   },
   "source": [
    "## Spark ML\n"
   ]
  },
  {
   "cell_type": "markdown",
   "metadata": {
    "id": "K_HAlDMit8jK"
   },
   "source": [
    "## K-means with Spark"
   ]
  },
  {
   "cell_type": "markdown",
   "metadata": {
    "id": "J86ikZbat8jL"
   },
   "source": [
    "### But first, sklearn"
   ]
  },
  {
   "cell_type": "code",
   "execution_count": null,
   "metadata": {
    "id": "XHWa0cYlt8jL"
   },
   "outputs": [],
   "source": [
    "%matplotlib inline \n",
    "import warnings\n",
    "warnings.filterwarnings('ignore')\n",
    "\n",
    "from sklearn.cluster import KMeans\n",
    "import pandas as pd\n",
    "import numpy as np\n"
   ]
  },
  {
   "cell_type": "code",
   "execution_count": null,
   "metadata": {
    "id": "ta03E3yUt8jN",
    "outputId": "5adc3a8b-e0be-422d-bb8d-7c2a33772d68"
   },
   "outputs": [
    {
     "name": "stdout",
     "output_type": "stream",
     "text": [
      "Feature matrix for sklearn \n",
      "\n",
      "\n",
      "\n",
      " [[177.8       68.04    ]\n",
      " [182.88      73.03    ]\n",
      " [187.96      74.84    ]\n",
      " ...\n",
      " [185.42      79.832192]\n",
      " [187.96      87.996848]\n",
      " [182.88      78.925008]]\n",
      "\n",
      "\n",
      "\n",
      "\n",
      "Cluster Centers \n",
      " [[183.11055976  78.04311321]\n",
      " [204.01642857 103.91643194]] \n",
      " from sklearn kmeans\n",
      "\n",
      "\n",
      "========Plot the two clusters===========\n"
     ]
    },
    {
     "data": {
      "text/plain": [
       "<matplotlib.axes._subplots.AxesSubplot at 0x7fe940ee4358>"
      ]
     },
     "execution_count": 2,
     "metadata": {},
     "output_type": "execute_result"
    },
    {
     "data": {
      "image/png": "[encoded data removed]",
      "text/plain": [
       "<Figure size 432x288 with 1 Axes>"
      ]
     },
     "metadata": {
      "needs_background": "light"
     },
     "output_type": "display_data"
    }
   ],
   "source": [
    "df = pd.read_csv('nbasoccer.csv')\n",
    "players = df[['player_height','player_weight']]\n",
    "X = players.to_numpy()\n",
    "print(f'Feature matrix for sklearn \\n\\n\\n\\n {X}\\n\\n\\n\\n')\n",
    "\n",
    "#Initialize KMeans object\n",
    "kmeans = KMeans(n_clusters=2, random_state=0) \n",
    "\n",
    "#Fit the data\n",
    "kmeans.fit(X)\n",
    "\n",
    "print(f'Cluster Centers \\n {kmeans.cluster_centers_} \\n from sklearn kmeans\\n\\n')\n",
    "\n",
    "print('========Plot the two clusters===========')\n",
    "players['label'] = kmeans.labels_\n",
    "players.columns = ['height','weight','label']\n",
    "color_dict = {0:'orange',\n",
    "             1:'blue'}\n",
    "players['color'] = players['label'].apply(lambda x:color_dict[x])\n",
    "players.plot.scatter(x='weight',y='height',c=players['color'])"
   ]
  },
  {
   "cell_type": "markdown",
   "metadata": {
    "id": "_Ww40HuBt8jO"
   },
   "source": [
    "### Spark ML Library Kmeans"
   ]
  },
  {
   "cell_type": "markdown",
   "metadata": {
    "id": "X8PXqWYGt8jO"
   },
   "source": [
    "---Script Starts"
   ]
  },
  {
   "cell_type": "code",
   "execution_count": null,
   "metadata": {
    "id": "zOKtlGQQt8jP",
    "outputId": "d887164a-5c9f-4bff-9c1a-e4c349be9da6"
   },
   "outputs": [
    {
     "name": "stdout",
     "output_type": "stream",
     "text": [
      "+----------------+----+-------------+-------------+------+\n",
      "|     player_name|team|player_height|player_weight|league|\n",
      "+----------------+----+-------------+-------------+------+\n",
      "|      Tyler Ulis| PHX|        177.8|        68.04|   NBA|\n",
      "|    Aaron Brooks| IND|       182.88|        73.03|   NBA|\n",
      "|   Briante Weber| CHA|       187.96|        74.84|   NBA|\n",
      "|  John Lucas III| MIN|       180.34|         75.3|   NBA|\n",
      "|     Tim Frazier| NOP|       185.42|        77.11|   NBA|\n",
      "|Brandon Jennings| WAS|       185.42|        77.11|   NBA|\n",
      "|   Isaiah Taylor| HOU|        190.5|        77.11|   NBA|\n",
      "| Dejounte Murray| SAS|       195.58|        77.11|   NBA|\n",
      "| Dennis Schroder| ATL|       185.42|        78.02|   NBA|\n",
      "|   Brian Roberts| CHA|       185.42|        78.47|   NBA|\n",
      "|    Lou Williams| HOU|       185.42|        79.38|   NBA|\n",
      "|     Mike Conley| MEM|       185.42|        79.38|   NBA|\n",
      "|  Shabazz Napier| POR|       185.42|        79.38|   NBA|\n",
      "|     Norris Cole| OKC|       187.96|        79.38|   NBA|\n",
      "|     C.J. Watson| ORL|       187.96|        79.38|   NBA|\n",
      "|      Chris Paul| LAC|       182.88|        79.38|   NBA|\n",
      "| Darren Collison| SAC|       182.88|        79.38|   NBA|\n",
      "|     Will Barton| DEN|       198.12|        79.38|   NBA|\n",
      "|     Bobby Brown| HOU|       187.96|        79.38|   NBA|\n",
      "|       Ish Smith| DET|       182.88|        79.38|   NBA|\n",
      "+----------------+----+-------------+-------------+------+\n",
      "only showing top 20 rows\n",
      "\n"
     ]
    }
   ],
   "source": [
    "from pyspark.sql import SparkSession # Spark Session Class for create a Spark Session\n",
    "from pyspark.ml.clustering import KMeans\n",
    "# create a spark session object\n",
    "# following some builder pattern\n",
    "\n",
    "spark = SparkSession.builder \\\n",
    "                    .master(\"local\") \\\n",
    "                    .appName(\"kmeans\") \\\n",
    "                    .getOrCreate() \n",
    "\n",
    "dfReader = spark.read # Spark interface to read external reader\n",
    "\n",
    "dataset = dfReader.option(\"header\", \"true\") \\\n",
    "           .option(\"inferSchema\", value = True) \\\n",
    "           .csv(\"nbasoccer.csv\")\n",
    "\n",
    "\n",
    "\"\"\"\n",
    "+--------------+\n",
    "| features     |\n",
    "+--------------+\n",
    "|[177.8,68.04] |\n",
    "|[182.88,73.03]|\n",
    "|[187.96,74.84]|\n",
    "|[180.34,75.3] |\n",
    "+--------------+\n",
    "\"\"\"\n",
    "dataset.show()\n"
   ]
  },
  {
   "cell_type": "code",
   "execution_count": null,
   "metadata": {
    "id": "JtKMNLhGt8jP",
    "outputId": "c7bda4d9-bbef-48f6-e091-83284d5037e8"
   },
   "outputs": [
    {
     "name": "stdout",
     "output_type": "stream",
     "text": [
      "+--------------+\n",
      "|features      |\n",
      "+--------------+\n",
      "|[177.8,68.04] |\n",
      "|[182.88,73.03]|\n",
      "|[187.96,74.84]|\n",
      "|[180.34,75.3] |\n",
      "|[185.42,77.11]|\n",
      "|[185.42,77.11]|\n",
      "|[190.5,77.11] |\n",
      "|[195.58,77.11]|\n",
      "|[185.42,78.02]|\n",
      "|[185.42,78.47]|\n",
      "|[185.42,79.38]|\n",
      "|[185.42,79.38]|\n",
      "|[185.42,79.38]|\n",
      "|[187.96,79.38]|\n",
      "|[187.96,79.38]|\n",
      "|[182.88,79.38]|\n",
      "|[182.88,79.38]|\n",
      "|[198.12,79.38]|\n",
      "|[187.96,79.38]|\n",
      "|[182.88,79.38]|\n",
      "+--------------+\n",
      "only showing top 20 rows\n",
      "\n"
     ]
    }
   ],
   "source": [
    "from pyspark.ml.linalg import Vectors\n",
    "from pyspark.ml.feature import VectorAssembler\n",
    "\n",
    "assembler = VectorAssembler(\n",
    "    inputCols=[\"player_height\", \"player_weight\"],\n",
    "    outputCol=\"features\")\n",
    "\n",
    "df = assembler.transform(dataset)\n",
    "df.select(\"features\").show(truncate=False)\n"
   ]
  },
  {
   "cell_type": "code",
   "execution_count": null,
   "metadata": {
    "id": "ZXMpbbTmt8jQ",
    "outputId": "f780c0ad-d617-4163-d2e2-385892e8ac49"
   },
   "outputs": [
    {
     "name": "stdout",
     "output_type": "stream",
     "text": [
      "+----------------+----+-------------+-------------+------+--------------+\n",
      "|     player_name|team|player_height|player_weight|league|      features|\n",
      "+----------------+----+-------------+-------------+------+--------------+\n",
      "|      Tyler Ulis| PHX|        177.8|        68.04|   NBA| [177.8,68.04]|\n",
      "|    Aaron Brooks| IND|       182.88|        73.03|   NBA|[182.88,73.03]|\n",
      "|   Briante Weber| CHA|       187.96|        74.84|   NBA|[187.96,74.84]|\n",
      "|  John Lucas III| MIN|       180.34|         75.3|   NBA| [180.34,75.3]|\n",
      "|     Tim Frazier| NOP|       185.42|        77.11|   NBA|[185.42,77.11]|\n",
      "|Brandon Jennings| WAS|       185.42|        77.11|   NBA|[185.42,77.11]|\n",
      "|   Isaiah Taylor| HOU|        190.5|        77.11|   NBA| [190.5,77.11]|\n",
      "| Dejounte Murray| SAS|       195.58|        77.11|   NBA|[195.58,77.11]|\n",
      "| Dennis Schroder| ATL|       185.42|        78.02|   NBA|[185.42,78.02]|\n",
      "|   Brian Roberts| CHA|       185.42|        78.47|   NBA|[185.42,78.47]|\n",
      "|    Lou Williams| HOU|       185.42|        79.38|   NBA|[185.42,79.38]|\n",
      "|     Mike Conley| MEM|       185.42|        79.38|   NBA|[185.42,79.38]|\n",
      "|  Shabazz Napier| POR|       185.42|        79.38|   NBA|[185.42,79.38]|\n",
      "|     Norris Cole| OKC|       187.96|        79.38|   NBA|[187.96,79.38]|\n",
      "|     C.J. Watson| ORL|       187.96|        79.38|   NBA|[187.96,79.38]|\n",
      "|      Chris Paul| LAC|       182.88|        79.38|   NBA|[182.88,79.38]|\n",
      "| Darren Collison| SAC|       182.88|        79.38|   NBA|[182.88,79.38]|\n",
      "|     Will Barton| DEN|       198.12|        79.38|   NBA|[198.12,79.38]|\n",
      "|     Bobby Brown| HOU|       187.96|        79.38|   NBA|[187.96,79.38]|\n",
      "|       Ish Smith| DET|       182.88|        79.38|   NBA|[182.88,79.38]|\n",
      "+----------------+----+-------------+-------------+------+--------------+\n",
      "only showing top 20 rows\n",
      "\n"
     ]
    }
   ],
   "source": [
    "df.show()"
   ]
  },
  {
   "cell_type": "code",
   "execution_count": null,
   "metadata": {
    "id": "T8AUXxfNt8jQ",
    "outputId": "176ac8ec-d898-4652-aab9-fc4e7db6928e"
   },
   "outputs": [
    {
     "name": "stdout",
     "output_type": "stream",
     "text": [
      "Centers from Spark ML Kmeans \n",
      " [array([183.11055976,  78.04311321]), array([204.01642857, 103.91643194])]\n",
      "\n"
     ]
    }
   ],
   "source": [
    "#initialize Spark Kmeans\n",
    "kmeans = KMeans(k=2, seed=1)\n",
    "#Fit\n",
    "model = kmeans.fit(df.select(\"features\")) #or kmeans.fit(df) also works. by default \"features\" col will be used to fit the model\n",
    "# Get Center\n",
    "centers = model.clusterCenters()\n",
    "print(f'Centers from Spark ML Kmeans \\n {centers}\\n')"
   ]
  },
  {
   "cell_type": "markdown",
   "metadata": {
    "id": "REV8mdJ2t8jR"
   },
   "source": [
    "---Script Ends"
   ]
  },
  {
   "cell_type": "code",
   "execution_count": null,
   "metadata": {
    "id": "F__m6HL9t8jR",
    "outputId": "c4f05a4b-5e60-4874-ca47-29fbd4e4a147"
   },
   "outputs": [
    {
     "data": {
      "text/plain": [
       "<matplotlib.axes._subplots.AxesSubplot at 0x7fe9713cd550>"
      ]
     },
     "execution_count": 7,
     "metadata": {},
     "output_type": "execute_result"
    },
    {
     "data": {
      "image/png": "[encoded data removed]",
      "text/plain": [
       "<Figure size 432x288 with 1 Axes>"
      ]
     },
     "metadata": {
      "needs_background": "light"
     },
     "output_type": "display_data"
    }
   ],
   "source": [
    "#apply transform to get labels\n",
    "labels = model.transform(df)\n",
    "\n",
    "players=labels.select('player_height','player_weight','prediction').toPandas()\n",
    "\n",
    "players.columns = ['height','weight','label']\n",
    "color_dict = {0:'orange',\n",
    "             1:'blue'}\n",
    "players['color'] = players['label'].apply(lambda x:color_dict[x])\n",
    "players.plot.scatter(x='weight',y='height',c=players['color'])"
   ]
  },
  {
   "cell_type": "code",
   "execution_count": null,
   "metadata": {
    "id": "C3fXfFiOt8jS"
   },
   "outputs": [],
   "source": [
    "spark.stop()"
   ]
  }
 ],
 "metadata": {
  "colab": {
   "provenance": []
  },
  "kernelspec": {
   "display_name": "Python 3",
   "language": "python",
   "name": "python3"
  },
  "language_info": {
   "codemirror_mode": {
    "name": "ipython",
    "version": 3
   },
   "file_extension": ".py",
   "mimetype": "text/x-python",
   "name": "python",
   "nbconvert_exporter": "python",
   "pygments_lexer": "ipython3",
   "version": "3.8.3"
  }
 },
 "nbformat": 4,
 "nbformat_minor": 1
}
